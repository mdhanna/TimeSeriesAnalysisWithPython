{
 "cells": [
  {
   "cell_type": "code",
   "execution_count": 1,
   "metadata": {
    "collapsed": true
   },
   "outputs": [],
   "source": [
    "import numpy as np\n",
    "import pandas as pd"
   ]
  },
  {
   "cell_type": "code",
   "execution_count": 2,
   "metadata": {
    "collapsed": true
   },
   "outputs": [],
   "source": [
    "rng = pd.date_range('3/6/2012 00:00', periods = 15, freq = 'D')\n",
    "rng.tz"
   ]
  },
  {
   "cell_type": "code",
   "execution_count": 3,
   "metadata": {},
   "outputs": [
    {
     "data": {
      "text/plain": [
       "<DstTzInfo 'Europe/London' LMT-1 day, 23:59:00 STD>"
      ]
     },
     "execution_count": 3,
     "metadata": {},
     "output_type": "execute_result"
    }
   ],
   "source": [
    "rng_tz = pd.date_range('3/6/2012 00:00', periods = 15, freq = 'D', tz = 'Europe/London')\n",
    "rng_tz.tz"
   ]
  },
  {
   "cell_type": "code",
   "execution_count": 4,
   "metadata": {},
   "outputs": [
    {
     "name": "stdout",
     "output_type": "stream",
     "text": [
      "439\n",
      "593\n",
      "{'Asia/Istanbul', 'GMT+0', 'Singapore', 'Africa/Timbuktu', 'PST8PDT', 'Australia/South', 'America/Virgin', 'Japan', 'Asia/Ujung_Pandang', 'America/Rosario', 'America/Cordoba', 'Libya', 'Asia/Dacca', 'America/Mendoza', 'CET', 'America/Catamarca', 'MST', 'Etc/GMT+6', 'Kwajalein', 'CST6CDT', 'Etc/GMT-12', 'Asia/Harbin', 'Etc/GMT-14', 'Etc/GMT+5', 'Asia/Ashkhabad', 'Etc/GMT+12', 'Cuba', 'Europe/Tiraspol', 'Israel', 'Etc/GMT+1', 'Turkey', 'America/Jujuy', 'W-SU', 'Etc/GMT-7', 'Asia/Ulan_Bator', 'US/East-Indiana', 'Australia/North', 'WET', 'Asia/Katmandu', 'Etc/GMT+2', 'America/Atka', 'Iceland', 'Asia/Macao', 'Pacific/Yap', 'Canada/Yukon', 'America/Montreal', 'America/Argentina/ComodRivadavia', 'Australia/Tasmania', 'Etc/GMT-13', 'Etc/Zulu', 'Asia/Calcutta', 'America/Knox_IN', 'Etc/GMT-2', 'EET', 'Pacific/Samoa', 'Australia/Victoria', 'Australia/West', 'Asia/Tel_Aviv', 'ROC', 'Jamaica', 'Etc/GMT+10', 'UCT', 'Asia/Saigon', 'Atlantic/Jan_Mayen', 'Etc/GMT-9', 'Etc/GMT-0', 'GB-Eire', 'Etc/Universal', 'Etc/GMT-4', 'Etc/GMT-11', 'America/Ensenada', 'Zulu', 'US/Pacific-New', 'Etc/GMT+11', 'Asia/Chungking', 'NZ', 'Australia/Yancowinna', 'Etc/GMT-10', 'Europe/Belfast', 'Egypt', 'America/Buenos_Aires', 'America/Shiprock', 'US/Indiana-Starke', 'Navajo', 'Etc/UTC', 'Etc/GMT0', 'ROK', 'Pacific/Johnston', 'NZ-CHAT', 'Canada/East-Saskatchewan', 'Mexico/BajaNorte', 'Antarctica/South_Pole', 'Australia/NSW', 'PRC', 'EST', 'US/Aleutian', 'Eire', 'Brazil/Acre', 'America/Indianapolis', 'US/Samoa', 'Etc/GMT-6', 'America/Louisville', 'Pacific/Truk', 'Atlantic/Faeroe', 'Poland', 'GMT0', 'GMT-0', 'Etc/GMT+7', 'Australia/Canberra', 'Chile/EasterIsland', 'America/Fort_Wayne', 'EST5EDT', 'Etc/GMT+8', 'GB', 'US/Michigan', 'Hongkong', 'Universal', 'Greenwich', 'Portugal', 'Mexico/General', 'Asia/Rangoon', 'Etc/GMT+9', 'Brazil/West', 'Asia/Kashgar', 'Asia/Chongqing', 'Australia/ACT', 'Etc/GMT+0', 'Etc/GMT-3', 'Brazil/East', 'Australia/LHI', 'Mexico/BajaSur', 'Brazil/DeNoronha', 'Pacific/Ponape', 'MET', 'Etc/GMT+3', 'Canada/Saskatchewan', 'America/Santa_Isabel', 'America/Porto_Acre', 'Africa/Asmera', 'Etc/Greenwich', 'MST7MDT', 'Etc/GMT-5', 'Chile/Continental', 'HST', 'Etc/GMT-8', 'America/Coral_Harbour', 'Asia/Thimbu', 'Iran', 'Australia/Queensland', 'Etc/GMT', 'Europe/Nicosia', 'Etc/UCT', 'Etc/GMT+4', 'Etc/GMT-1'}\n"
     ]
    }
   ],
   "source": [
    "from pytz import common_timezones, all_timezones\n",
    "print(len(common_timezones))\n",
    "print(len(all_timezones))\n",
    "print(set(all_timezones) - set(common_timezones))"
   ]
  },
  {
   "cell_type": "code",
   "execution_count": 9,
   "metadata": {},
   "outputs": [
    {
     "data": {
      "text/plain": [
       "{'Africa/Asmera',\n",
       " 'Africa/Timbuktu',\n",
       " 'America/Argentina/ComodRivadavia',\n",
       " 'America/Atka',\n",
       " 'America/Buenos_Aires',\n",
       " 'America/Catamarca',\n",
       " 'America/Coral_Harbour',\n",
       " 'America/Cordoba',\n",
       " 'America/Ensenada',\n",
       " 'America/Fort_Wayne',\n",
       " 'America/Indianapolis',\n",
       " 'America/Jujuy',\n",
       " 'America/Knox_IN',\n",
       " 'America/Louisville',\n",
       " 'America/Mendoza',\n",
       " 'America/Montreal',\n",
       " 'America/Porto_Acre',\n",
       " 'America/Rosario',\n",
       " 'America/Santa_Isabel',\n",
       " 'America/Shiprock',\n",
       " 'America/Virgin',\n",
       " 'Antarctica/South_Pole',\n",
       " 'Asia/Ashkhabad',\n",
       " 'Asia/Calcutta',\n",
       " 'Asia/Chongqing',\n",
       " 'Asia/Chungking',\n",
       " 'Asia/Dacca',\n",
       " 'Asia/Harbin',\n",
       " 'Asia/Istanbul',\n",
       " 'Asia/Kashgar',\n",
       " 'Asia/Katmandu',\n",
       " 'Asia/Macao',\n",
       " 'Asia/Rangoon',\n",
       " 'Asia/Saigon',\n",
       " 'Asia/Tel_Aviv',\n",
       " 'Asia/Thimbu',\n",
       " 'Asia/Ujung_Pandang',\n",
       " 'Asia/Ulan_Bator',\n",
       " 'Atlantic/Faeroe',\n",
       " 'Atlantic/Jan_Mayen',\n",
       " 'Australia/ACT',\n",
       " 'Australia/Canberra',\n",
       " 'Australia/LHI',\n",
       " 'Australia/NSW',\n",
       " 'Australia/North',\n",
       " 'Australia/Queensland',\n",
       " 'Australia/South',\n",
       " 'Australia/Tasmania',\n",
       " 'Australia/Victoria',\n",
       " 'Australia/West',\n",
       " 'Australia/Yancowinna',\n",
       " 'Brazil/Acre',\n",
       " 'Brazil/DeNoronha',\n",
       " 'Brazil/East',\n",
       " 'Brazil/West',\n",
       " 'CET',\n",
       " 'CST6CDT',\n",
       " 'Canada/East-Saskatchewan',\n",
       " 'Canada/Saskatchewan',\n",
       " 'Canada/Yukon',\n",
       " 'Chile/Continental',\n",
       " 'Chile/EasterIsland',\n",
       " 'Cuba',\n",
       " 'EET',\n",
       " 'EST',\n",
       " 'EST5EDT',\n",
       " 'Egypt',\n",
       " 'Eire',\n",
       " 'Etc/GMT',\n",
       " 'Etc/GMT+0',\n",
       " 'Etc/GMT+1',\n",
       " 'Etc/GMT+10',\n",
       " 'Etc/GMT+11',\n",
       " 'Etc/GMT+12',\n",
       " 'Etc/GMT+2',\n",
       " 'Etc/GMT+3',\n",
       " 'Etc/GMT+4',\n",
       " 'Etc/GMT+5',\n",
       " 'Etc/GMT+6',\n",
       " 'Etc/GMT+7',\n",
       " 'Etc/GMT+8',\n",
       " 'Etc/GMT+9',\n",
       " 'Etc/GMT-0',\n",
       " 'Etc/GMT-1',\n",
       " 'Etc/GMT-10',\n",
       " 'Etc/GMT-11',\n",
       " 'Etc/GMT-12',\n",
       " 'Etc/GMT-13',\n",
       " 'Etc/GMT-14',\n",
       " 'Etc/GMT-2',\n",
       " 'Etc/GMT-3',\n",
       " 'Etc/GMT-4',\n",
       " 'Etc/GMT-5',\n",
       " 'Etc/GMT-6',\n",
       " 'Etc/GMT-7',\n",
       " 'Etc/GMT-8',\n",
       " 'Etc/GMT-9',\n",
       " 'Etc/GMT0',\n",
       " 'Etc/Greenwich',\n",
       " 'Etc/UCT',\n",
       " 'Etc/UTC',\n",
       " 'Etc/Universal',\n",
       " 'Etc/Zulu',\n",
       " 'Europe/Belfast',\n",
       " 'Europe/Nicosia',\n",
       " 'Europe/Tiraspol',\n",
       " 'GB',\n",
       " 'GB-Eire',\n",
       " 'GMT+0',\n",
       " 'GMT-0',\n",
       " 'GMT0',\n",
       " 'Greenwich',\n",
       " 'HST',\n",
       " 'Hongkong',\n",
       " 'Iceland',\n",
       " 'Iran',\n",
       " 'Israel',\n",
       " 'Jamaica',\n",
       " 'Japan',\n",
       " 'Kwajalein',\n",
       " 'Libya',\n",
       " 'MET',\n",
       " 'MST',\n",
       " 'MST7MDT',\n",
       " 'Mexico/BajaNorte',\n",
       " 'Mexico/BajaSur',\n",
       " 'Mexico/General',\n",
       " 'NZ',\n",
       " 'NZ-CHAT',\n",
       " 'Navajo',\n",
       " 'PRC',\n",
       " 'PST8PDT',\n",
       " 'Pacific/Johnston',\n",
       " 'Pacific/Ponape',\n",
       " 'Pacific/Samoa',\n",
       " 'Pacific/Truk',\n",
       " 'Pacific/Yap',\n",
       " 'Poland',\n",
       " 'Portugal',\n",
       " 'ROC',\n",
       " 'ROK',\n",
       " 'Singapore',\n",
       " 'Turkey',\n",
       " 'UCT',\n",
       " 'US/Aleutian',\n",
       " 'US/East-Indiana',\n",
       " 'US/Indiana-Starke',\n",
       " 'US/Michigan',\n",
       " 'US/Pacific-New',\n",
       " 'US/Samoa',\n",
       " 'Universal',\n",
       " 'W-SU',\n",
       " 'WET',\n",
       " 'Zulu'}"
      ]
     },
     "execution_count": 9,
     "metadata": {},
     "output_type": "execute_result"
    }
   ],
   "source": [
    "set(all_timezones) - set(common_timezones)"
   ]
  },
  {
   "cell_type": "code",
   "execution_count": 10,
   "metadata": {},
   "outputs": [
    {
     "data": {
      "text/plain": [
       "Timestamp('2016-07-10 08:50:00')"
      ]
     },
     "execution_count": 10,
     "metadata": {},
     "output_type": "execute_result"
    }
   ],
   "source": [
    "# You can also localize a naive timestamp\n",
    "t_naive = pd.Timestamp('2016-07-10 08:50')\n",
    "t_naive"
   ]
  },
  {
   "cell_type": "code",
   "execution_count": 14,
   "metadata": {},
   "outputs": [
    {
     "data": {
      "text/plain": [
       "Timestamp('2016-07-10 08:50:00-0500', tz='US/Central')"
      ]
     },
     "execution_count": 14,
     "metadata": {},
     "output_type": "execute_result"
    }
   ],
   "source": [
    "t = t_naive.tz_localize(tz = 'US/Central')\n",
    "t"
   ]
  },
  {
   "cell_type": "code",
   "execution_count": 15,
   "metadata": {},
   "outputs": [
    {
     "data": {
      "text/plain": [
       "Timestamp('2016-07-10 22:50:00+0900', tz='Asia/Tokyo')"
      ]
     },
     "execution_count": 15,
     "metadata": {},
     "output_type": "execute_result"
    }
   ],
   "source": [
    "t.tz_convert('Asia/Tokyo')"
   ]
  },
  {
   "cell_type": "code",
   "execution_count": 28,
   "metadata": {},
   "outputs": [
    {
     "data": {
      "text/plain": [
       "2016-03-10 00:00:00-06:00    0\n",
       "2016-03-11 00:00:00-06:00    1\n",
       "2016-03-12 00:00:00-06:00    2\n",
       "2016-03-13 00:00:00-06:00    3\n",
       "2016-03-14 00:00:00-05:00    4\n",
       "2016-03-15 00:00:00-05:00    5\n",
       "2016-03-16 00:00:00-05:00    6\n",
       "2016-03-17 00:00:00-05:00    7\n",
       "2016-03-18 00:00:00-05:00    8\n",
       "2016-03-19 00:00:00-05:00    9\n",
       "Freq: D, dtype: int32"
      ]
     },
     "execution_count": 28,
     "metadata": {},
     "output_type": "execute_result"
    }
   ],
   "source": [
    "# how to handle daylight savings?\n",
    "rng = pd.date_range('2016-03-10', periods=10, tz='US/Central')\n",
    "ts = pd.Series(range(10), index=rng)\n",
    "ts"
   ]
  },
  {
   "cell_type": "code",
   "execution_count": 29,
   "metadata": {},
   "outputs": [
    {
     "data": {
      "text/plain": [
       "2016-03-10 00:00:00+00:00    0\n",
       "2016-03-11 00:00:00+00:00    1\n",
       "2016-03-12 00:00:00+00:00    2\n",
       "2016-03-13 00:00:00+00:00    3\n",
       "2016-03-14 00:00:00+00:00    4\n",
       "2016-03-15 00:00:00+00:00    5\n",
       "2016-03-16 00:00:00+00:00    6\n",
       "2016-03-17 00:00:00+00:00    7\n",
       "2016-03-18 00:00:00+00:00    8\n",
       "2016-03-19 00:00:00+00:00    9\n",
       "Freq: D, dtype: int32"
      ]
     },
     "execution_count": 29,
     "metadata": {},
     "output_type": "execute_result"
    }
   ],
   "source": [
    "rng = pd.date_range('2016-03-10', periods=10, tz='utc')\n",
    "ts = pd.Series(range(10), index=rng)\n",
    "ts"
   ]
  },
  {
   "cell_type": "code",
   "execution_count": 34,
   "metadata": {},
   "outputs": [
    {
     "data": {
      "text/plain": [
       "2016-03-09 18:00:00-06:00    0\n",
       "2016-03-10 18:00:00-06:00    1\n",
       "2016-03-11 18:00:00-06:00    2\n",
       "2016-03-12 18:00:00-06:00    3\n",
       "2016-03-13 19:00:00-05:00    4\n",
       "2016-03-14 19:00:00-05:00    5\n",
       "2016-03-15 19:00:00-05:00    6\n",
       "2016-03-16 19:00:00-05:00    7\n",
       "2016-03-17 19:00:00-05:00    8\n",
       "2016-03-18 19:00:00-05:00    9\n",
       "Freq: D, dtype: int32"
      ]
     },
     "execution_count": 34,
     "metadata": {},
     "output_type": "execute_result"
    }
   ],
   "source": [
    "ts.tz_convert('US/Central')"
   ]
  },
  {
   "cell_type": "code",
   "execution_count": 35,
   "metadata": {},
   "outputs": [
    {
     "data": {
      "text/plain": [
       "DatetimeIndex(['2016-03-12 22:00:00-05:00', '2016-03-12 23:00:00-05:00',\n",
       "               '2016-03-13 00:00:00-05:00', '2016-03-13 01:00:00-05:00',\n",
       "               '2016-03-13 03:00:00-04:00', '2016-03-13 04:00:00-04:00',\n",
       "               '2016-03-13 05:00:00-04:00', '2016-03-13 06:00:00-04:00',\n",
       "               '2016-03-13 07:00:00-04:00', '2016-03-13 08:00:00-04:00',\n",
       "               '2016-03-13 09:00:00-04:00', '2016-03-13 10:00:00-04:00'],\n",
       "              dtype='datetime64[ns, US/Eastern]', freq='H')"
      ]
     },
     "execution_count": 35,
     "metadata": {},
     "output_type": "execute_result"
    }
   ],
   "source": [
    "pd.date_range('03-12-2016 22:00', periods = 12, freq = 'H', tz = 'US/Eastern')"
   ]
  },
  {
   "cell_type": "code",
   "execution_count": 36,
   "metadata": {},
   "outputs": [
    {
     "ename": "NonExistentTimeError",
     "evalue": "2016-03-13 02:00:00",
     "output_type": "error",
     "traceback": [
      "\u001b[1;31m---------------------------------------------------------------------------\u001b[0m",
      "\u001b[1;31mNonExistentTimeError\u001b[0m                      Traceback (most recent call last)",
      "\u001b[1;32m<ipython-input-36-db52ff5ccce8>\u001b[0m in \u001b[0;36m<module>\u001b[1;34m()\u001b[0m\n\u001b[0;32m      1\u001b[0m \u001b[1;31m# May autocorrect an error rather than giving you a non-existent time error\u001b[0m\u001b[1;33m\u001b[0m\u001b[1;33m\u001b[0m\u001b[0m\n\u001b[1;32m----> 2\u001b[1;33m \u001b[0mpd\u001b[0m\u001b[1;33m.\u001b[0m\u001b[0mTimestamp\u001b[0m\u001b[1;33m(\u001b[0m\u001b[1;34m'2016-03-13 02:00'\u001b[0m\u001b[1;33m,\u001b[0m \u001b[0mtz\u001b[0m \u001b[1;33m=\u001b[0m \u001b[1;34m'US/Eastern'\u001b[0m\u001b[1;33m)\u001b[0m\u001b[1;33m\u001b[0m\u001b[0m\n\u001b[0m",
      "\u001b[1;32mpandas\\_libs\\tslib.pyx\u001b[0m in \u001b[0;36mpandas._libs.tslib.Timestamp.__new__ (pandas\\_libs\\tslib.c:10051)\u001b[1;34m()\u001b[0m\n",
      "\u001b[1;32mpandas\\_libs\\tslib.pyx\u001b[0m in \u001b[0;36mpandas._libs.tslib.convert_to_tsobject (pandas\\_libs\\tslib.c:27453)\u001b[1;34m()\u001b[0m\n",
      "\u001b[1;32mpandas\\_libs\\tslib.pyx\u001b[0m in \u001b[0;36mpandas._libs.tslib.convert_str_to_tsobject (pandas\\_libs\\tslib.c:29635)\u001b[1;34m()\u001b[0m\n",
      "\u001b[1;32mpandas\\_libs\\tslib.pyx\u001b[0m in \u001b[0;36mpandas._libs.tslib.tz_localize_to_utc (pandas\\_libs\\tslib.c:77927)\u001b[1;34m()\u001b[0m\n",
      "\u001b[1;31mNonExistentTimeError\u001b[0m: 2016-03-13 02:00:00"
     ]
    }
   ],
   "source": [
    "# May autocorrect an error rather than giving you a non-existent time error\n",
    "pd.Timestamp('2016-03-13 02:00', tz = 'US/Eastern')"
   ]
  },
  {
   "cell_type": "code",
   "execution_count": null,
   "metadata": {
    "collapsed": true
   },
   "outputs": [],
   "source": []
  }
 ],
 "metadata": {
  "kernelspec": {
   "display_name": "Python 3",
   "language": "python",
   "name": "python3"
  },
  "language_info": {
   "codemirror_mode": {
    "name": "ipython",
    "version": 3
   },
   "file_extension": ".py",
   "mimetype": "text/x-python",
   "name": "python",
   "nbconvert_exporter": "python",
   "pygments_lexer": "ipython3",
   "version": "3.6.1"
  },
  "widgets": {
   "state": {},
   "version": "1.1.1"
  }
 },
 "nbformat": 4,
 "nbformat_minor": 1
}
